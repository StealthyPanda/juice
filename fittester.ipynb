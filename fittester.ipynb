{
 "cells": [
  {
   "cell_type": "code",
   "execution_count": 11,
   "metadata": {},
   "outputs": [],
   "source": [
    "import juice as j\n",
    "import tensorflow as tf\n",
    "import matplotlib.pyplot as plt"
   ]
  },
  {
   "cell_type": "code",
   "execution_count": 2,
   "metadata": {},
   "outputs": [],
   "source": [
    "data = tf.keras.datasets.mnist.load_data()"
   ]
  },
  {
   "cell_type": "code",
   "execution_count": 8,
   "metadata": {},
   "outputs": [],
   "source": [
    "(trainx, trainy), (testx, testy) = data"
   ]
  },
  {
   "cell_type": "code",
   "execution_count": 10,
   "metadata": {},
   "outputs": [
    {
     "name": "stdout",
     "output_type": "stream",
     "text": [
      "(28, 28)\n",
      "5\n"
     ]
    }
   ],
   "source": [
    "print(trainx[0].shape)\n",
    "print(trainy[0])"
   ]
  },
  {
   "cell_type": "code",
   "execution_count": 16,
   "metadata": {},
   "outputs": [],
   "source": [
    "def show(sample) : plt.imshow(sample, cmap = 'gray')"
   ]
  },
  {
   "cell_type": "code",
   "execution_count": 18,
   "metadata": {},
   "outputs": [
    {
     "data": {
      "image/png": "[encoded data removed]",
      "text/plain": [
       "<Figure size 432x288 with 1 Axes>"
      ]
     },
     "metadata": {
      "needs_background": "light"
     },
     "output_type": "display_data"
    }
   ],
   "source": [
    "show(trainx[1])"
   ]
  },
  {
   "cell_type": "code",
   "execution_count": 20,
   "metadata": {},
   "outputs": [
    {
     "name": "stdout",
     "output_type": "stream",
     "text": [
      "jarvis:\n",
      "\n",
      "No. of layers : 4\n",
      "No. of training parameters : 13002\n",
      "\n",
      "      ↓(28, 28)\n",
      "Flatten Layer (784 cells)\n",
      "      ↓784\n",
      "      ↓784\n",
      "Dense Layer (16 cells)\n",
      "      ↓16\n",
      "      ↓16\n",
      "Dense Layer (16 cells)\n",
      "      ↓16\n",
      "      ↓16\n",
      "Dense Layer (10 cells)\n",
      "      ↓10\n",
      "\n",
      "\n",
      "\n"
     ]
    }
   ],
   "source": [
    "jarvis = j.NeuralNetwork(\n",
    "    layers = [\n",
    "        j.Flatten(inputsize=(28, 28)),\n",
    "        j.Layer(cells = 16, activation = j.actrelu),\n",
    "        j.Layer(cells = 16, activation = j.actrelu),\n",
    "        j.Layer(cells = 10, activation = j.actsigmoid)\n",
    "    ],\n",
    "    name = 'jarvis'\n",
    ")\n",
    "\n",
    "print(jarvis.compile())"
   ]
  },
  {
   "cell_type": "code",
   "execution_count": 21,
   "metadata": {},
   "outputs": [
    {
     "name": "stdout",
     "output_type": "stream",
     "text": [
      "Recording shape: (784, 60000)\n",
      "Recording shape: (16, 60000)\n",
      "Recording shape: (16, 60000)\n",
      "Recording shape: (10, 60000)\n",
      "Reading shape : (16, 60000)\n",
      "Reading shape : (784, 60000)\n"
     ]
    },
    {
     "ename": "ValueError",
     "evalue": "matmul: Input operand 1 has a mismatch in its core dimension 0, with gufunc signature (n?,k),(k,m?)->(n?,m?) (size 17 is different from 16)",
     "output_type": "error",
     "traceback": [
      "\u001b[1;31m---------------------------------------------------------------------------\u001b[0m",
      "\u001b[1;31mValueError\u001b[0m                                Traceback (most recent call last)",
      "\u001b[1;32mc:\\Users\\StealthyPanda\\Desktop\\repos\\juice\\fittester.ipynb Cell 8\u001b[0m in \u001b[0;36m<cell line: 1>\u001b[1;34m()\u001b[0m\n\u001b[1;32m----> <a href='vscode-notebook-cell:/c%3A/Users/StealthyPanda/Desktop/repos/juice/fittester.ipynb#X10sZmlsZQ%3D%3D?line=0'>1</a>\u001b[0m jarvis\u001b[39m.\u001b[39;49mfit(trainx, trainy)\n",
      "File \u001b[1;32mc:\\Users\\StealthyPanda\\Desktop\\repos\\juice\\juice.py:182\u001b[0m, in \u001b[0;36mNeuralNetwork.fit\u001b[1;34m(self, x, y)\u001b[0m\n\u001b[0;32m    179\u001b[0m \u001b[39m# print((self.layers[each + 1].array.shape, self.deltas[each + 1].array.shape))\u001b[39;00m\n\u001b[0;32m    180\u001b[0m \u001b[39m# print((self.layers[each + 1].array.shape, self.deltas[each + 1].shape))\u001b[39;00m\n\u001b[0;32m    181\u001b[0m \u001b[39mprint\u001b[39m(\u001b[39mf\u001b[39m\u001b[39m\"\u001b[39m\u001b[39mReading shape : \u001b[39m\u001b[39m{\u001b[39;00m\u001b[39mself\u001b[39m\u001b[39m.\u001b[39mrecord[each]\u001b[39m.\u001b[39mshape\u001b[39m}\u001b[39;00m\u001b[39m\"\u001b[39m)\n\u001b[1;32m--> 182\u001b[0m delta \u001b[39m=\u001b[39m np\u001b[39m.\u001b[39;49mmatmul(\u001b[39mself\u001b[39;49m\u001b[39m.\u001b[39;49mlayers[each \u001b[39m+\u001b[39;49m \u001b[39m1\u001b[39;49m]\u001b[39m.\u001b[39;49marray\u001b[39m.\u001b[39;49mtranspose(), \u001b[39mself\u001b[39;49m\u001b[39m.\u001b[39;49mdeltas[each \u001b[39m+\u001b[39;49m \u001b[39m1\u001b[39;49m])\n\u001b[0;32m    184\u001b[0m gdashz \u001b[39m=\u001b[39m derivatives[\u001b[39mself\u001b[39m\u001b[39m.\u001b[39mlayers[each]\u001b[39m.\u001b[39mactivation](\u001b[39mself\u001b[39m\u001b[39m.\u001b[39mrecord[each])\n\u001b[0;32m    185\u001b[0m gdashz \u001b[39m=\u001b[39m np\u001b[39m.\u001b[39mconcatenate((gdashz, [[\u001b[39m1\u001b[39m \u001b[39mfor\u001b[39;00m i \u001b[39min\u001b[39;00m \u001b[39mrange\u001b[39m((gdashz\u001b[39m.\u001b[39mshape[\u001b[39m1\u001b[39m]))]]), axis\u001b[39m=\u001b[39m\u001b[39m0\u001b[39m)\n",
      "\u001b[1;31mValueError\u001b[0m: matmul: Input operand 1 has a mismatch in its core dimension 0, with gufunc signature (n?,k),(k,m?)->(n?,m?) (size 17 is different from 16)"
     ]
    }
   ],
   "source": [
    "jarvis.fit(trainx, trainy)"
   ]
  }
 ],
 "metadata": {
  "kernelspec": {
   "display_name": "Python 3.10.6 64-bit",
   "language": "python",
   "name": "python3"
  },
  "language_info": {
   "codemirror_mode": {
    "name": "ipython",
    "version": 3
   },
   "file_extension": ".py",
   "mimetype": "text/x-python",
   "name": "python",
   "nbconvert_exporter": "python",
   "pygments_lexer": "ipython3",
   "version": "3.10.6"
  },
  "orig_nbformat": 4,
  "vscode": {
   "interpreter": {
    "hash": "36e14c9e1cb80b7a58229a4cedc7e1c8b89be16b99cace3d6c4a4df49851e531"
   }
  }
 },
 "nbformat": 4,
 "nbformat_minor": 2
}
